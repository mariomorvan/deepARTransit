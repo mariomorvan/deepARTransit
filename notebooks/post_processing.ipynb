{
 "cells": [
  {
   "cell_type": "markdown",
   "metadata": {},
   "source": [
    "## Post-Processing Notebook\n",
    "\n",
    "Providing a use-case example for analysing and fitting the predictions of a previously ran TLCD-LSTM model."
   ]
  },
  {
   "cell_type": "code",
   "execution_count": null,
   "metadata": {},
   "outputs": [],
   "source": [
    "# General imports and widgets\n",
    "import os\n",
    "import sys\n",
    "import numpy as np\n",
    "\n",
    "import warnings\n",
    "warnings.filterwarnings('ignore')\n",
    "\n",
    "import matplotlib.pyplot as plt\n",
    "%matplotlib inline\n",
    "%matplotlib inline\n",
    "plt.rcParams['figure.figsize'] = (12, 6)\n",
    "plt.rcParams['font.size'] = 15\n",
    "warnings.simplefilter(\"ignore\")\n",
    "\n",
    "import ipywidgets as widgets"
   ]
  },
  {
   "cell_type": "code",
   "execution_count": null,
   "metadata": {},
   "outputs": [],
   "source": [
    "project_dir = os.path.join('/','Users','mario','git-repos','deepARTransit')  # change to yours"
   ]
  },
  {
   "cell_type": "code",
   "execution_count": null,
   "metadata": {
    "code_folding": [
     0
    ]
   },
   "outputs": [],
   "source": [
    "# Radial aperture to help excluding the main star and compute background flux\n",
    "def radial_aperture(array, cent, radius=3):\n",
    "    aperture = np.empty_like(array, dtype=bool)\n",
    "    if len(array.shape) == 2:\n",
    "        aperture[:,:] = False\n",
    "        for i in np.arange(array.shape[-2]):\n",
    "            for j in np.arange(array.shape[-1]) :\n",
    "                if (i + 0.5 - cent[0]) ** 2 + (j + 0.5  -cent[1]) ** 2 <= radius ** 2:\n",
    "                    aperture[i,j] = True\n",
    "    elif len(array.shape) == 3:\n",
    "        aperture[:,:,:] = False\n",
    "        for t in range(array.shape[0]):\n",
    "            for i in np.arange(array.shape[-2]):\n",
    "                for j in np.arange(array.shape[-1]) :\n",
    "                    if (i + 0.5 - cent[0]) ** 2 + (j + 0.5  -cent[1]) ** 2 <= radius ** 2:\n",
    "                        aperture[t, i,j] = True\n",
    "    return aperture "
   ]
  },
  {
   "cell_type": "code",
   "execution_count": null,
   "metadata": {},
   "outputs": [],
   "source": [
    "mask = ~radial_aperture(np.ones(shape=(32,32)), (16,16), 16)"
   ]
  },
  {
   "cell_type": "code",
   "execution_count": null,
   "metadata": {},
   "outputs": [],
   "source": [
    "experiment_widget = widgets.Dropdown(\n",
    "    options=sorted(list({r.split('experiments')[1][1:] for r,d,f in \n",
    "                         os.walk('./experiments') if 'output' in d and 'summary' in d})),\n",
    "    description='\\t\\t',\n",
    "    disabled=False\n",
    ")"
   ]
  },
  {
   "cell_type": "markdown",
   "metadata": {},
   "source": [
    "### Selecting Experiment Folder"
   ]
  },
  {
   "cell_type": "code",
   "execution_count": null,
   "metadata": {},
   "outputs": [],
   "source": [
    "experiment_widget"
   ]
  },
  {
   "cell_type": "code",
   "execution_count": null,
   "metadata": {},
   "outputs": [],
   "source": [
    "from deepartransit.utils.config import get_config_file, process_config\n",
    "from deepartransit.utils.data_handling import data_generator\n",
    "from deepartransit.utils.transit import get_transit_model\n",
    "\n",
    "experiment_folder = experiment_widget.value\n",
    "experiment_dir = os.path.join('experiments', experiment_folder)\n",
    "config_file = get_config_file(experiment_dir)\n",
    "\n",
    "config = process_config(config_file)\n",
    "data = data_generator.DataGenerator(config)\n",
    "config = data.update_config()\n",
    "\n",
    "t1, t2, t3 = config['pretrans_length'], config['trans_length'], config['postrans_length']\n",
    "n_obs = data.Z.shape[0]"
   ]
  },
  {
   "cell_type": "code",
   "execution_count": null,
   "metadata": {},
   "outputs": [],
   "source": [
    "time_arrays = np.arange(len(data.Z))\n",
    "bts = np.zeros_like(data.Z)"
   ]
  },
  {
   "cell_type": "code",
   "execution_count": null,
   "metadata": {
    "code_folding": [],
    "scrolled": true
   },
   "outputs": [],
   "source": [
    "# Here I import time array corresponding to my data., ignore this cell or replace with your imports\n",
    "from spitzerlc.data_handling import combine_fits_files\n",
    "# For HD189733B\n",
    "channel = 4\n",
    "aorkey_list = ['22807296', '22807552', '22807808', '24537856', '27603712', '27773440']\n",
    "parent_dir = '~/git-repos/spitzerLC/spitzerlc/data/agol_hd189733b/'\n",
    "\n",
    "#WASP 121\n",
    "channel = 2\n",
    "aorkey_list = ['62160640']\n",
    "parent_dir = '/Users/mario/data/IRAC/wasp121/'\n",
    "\n",
    "from spitzerlc.observation import Observation\n",
    "from spitzerlc.data_handling import load_data\n",
    "\n",
    "time_arrays = np.zeros(data.Z.shape[:2])\n",
    "\n",
    "background_mean = []\n",
    "bts = []\n",
    "for i,aorkey in enumerate(aorkey_list):\n",
    "    time_array, flux, header = combine_fits_files(aorkey, channel, parent_dir = parent_dir)\n",
    "    obs = Observation(aorkey, channel, header, time_array, flux )\n",
    "    time_arrays[i] = obs.time_array\n",
    "    \n",
    "    #background_mean.append(np.nanmedian(obs.flux[200:500,mask], axis=1).mean()*25)\n",
    "    bts.append(np.nanmedian(obs.flux[:,mask], axis=1) * 25)\n",
    "    \n",
    "    #print('background estimate', background_mean[-1])\n",
    "    plt.plot(bts[-1])\n",
    "    plt.show()\n",
    "    \n",
    "    obs.select_subregion(radius=2)\n",
    "    plt.plot(obs.raw_light_curve().flux)\n",
    "    plt.show()   \n",
    "    plt.plot(obs.raw_light_curve().flux - bts[-1])\n",
    "    plt.show()\n",
    "time_arrays = time_arrays - 2454000"
   ]
  },
  {
   "cell_type": "markdown",
   "metadata": {},
   "source": [
    "### Plotting input data"
   ]
  },
  {
   "cell_type": "code",
   "execution_count": null,
   "metadata": {
    "scrolled": true
   },
   "outputs": [],
   "source": [
    "%matplotlib inline\n",
    "plt.rcParams['font.size'] = 20\n",
    "\n",
    "fig, ax = plt.subplots(3, max(n_obs,2), figsize=(25,12), sharey='row', sharex='col')\n",
    "Z_orig = data.scaler_Z.inverse_transform(data.Z)\n",
    "for obs in range(n_obs):\n",
    "    ax[0, obs].scatter(time_arrays[obs], data.Z[obs,:,0], \n",
    "                       s=3, label='raw light curve')\n",
    "    ax[1, obs].plot(time_arrays[obs], data.X[obs,:,0], label='centroid X position', color='darkblue', alpha=0.5)\n",
    "    ax[1, obs].plot(time_arrays[obs], data.X[obs,:,1], label='centroid Y position', color='darkgreen', alpha=0.5)\n",
    "    ax[2, obs].plot(time_arrays[obs], data.X[obs,:,2], label='centroid X position', color='darkblue', alpha=0.5)\n",
    "    ax[2, obs].plot(time_arrays[obs], data.X[obs,:,3], label='centroid Y position', color='darkgreen', alpha=0.5)\n",
    "\n",
    "plt.tight_layout()\n",
    "plt.legend()\n",
    "\n",
    "fig.add_subplot(111, frameon=False)\n",
    "# hide tick and tick label of the big axis\n",
    "plt.tick_params(labelcolor='none', top=False, bottom=False, left=False, right=False)\n",
    "plt.margins(x = 1)\n",
    "plt.xlabel(\"Time [BMJD - 2454000 days]\", fontsize=25, labelpad=30)\n",
    "plt.subplots_adjust(bottom=0.8)\n",
    "\n",
    "\n",
    "fig.add_subplot(111, frameon=False)\n",
    "# hide tick and tick label of the big axis\n",
    "plt.tick_params(labelcolor='none', top=False, bottom=False, left=False, right=False)\n",
    "plt.margins(x = 1)\n",
    "plt.ylabel(\"Normalized time-series\", fontsize=25, labelpad=10)\n",
    "#plt.subplots_adjust(bottom=0.8)\n",
    "\n",
    "if 'plots' not in os.listdir(experiment_dir):\n",
    "    os.mkdir(os.path.join(experiment_dir, 'plots'))\n",
    "fig.savefig(os.path.join(experiment_dir, 'plots','data.png'))\n"
   ]
  },
  {
   "cell_type": "markdown",
   "metadata": {},
   "source": [
    "# Loading results"
   ]
  },
  {
   "cell_type": "code",
   "execution_count": null,
   "metadata": {},
   "outputs": [],
   "source": [
    "# retrieve evaluation steps\n",
    "loc_dict = {}\n",
    "pars_dict = {}\n",
    "scale_dict = {}\n",
    "for fn in [s for s in os.listdir(os.path.join(project_dir, config.output_dir)) if (s[:3] == 'loc')]:\n",
    "    step = fn.split('_')[-1].split('.')[0]\n",
    "    try:\n",
    "        loc_dict[int(step)] = np.load(os.path.join(project_dir, config.output_dir, fn)).swapaxes(0,1)#.mean(axis=0)\n",
    "        scale_dict[int(step)] = np.load(os.path.join(project_dir, config.output_dir, 'scales_array_{}.npy'.format(step))).swapaxes(0,1)#.mean(axis=0)\n",
    "    except:\n",
    "        print(fn)\n",
    "        break\n",
    "step_list = sorted([int(k) for k in loc_dict if k!='array'])\n",
    "print(step_list)"
   ]
  },
  {
   "cell_type": "code",
   "execution_count": null,
   "metadata": {},
   "outputs": [],
   "source": [
    "# Selection of optimal step\n",
    "step = step_list[-1] # Last\n",
    "step = 150"
   ]
  },
  {
   "cell_type": "code",
   "execution_count": null,
   "metadata": {},
   "outputs": [],
   "source": [
    "loc_array = loc_dict[step]"
   ]
  },
  {
   "cell_type": "code",
   "execution_count": null,
   "metadata": {},
   "outputs": [],
   "source": [
    "def to_real_time(t, true_ta, wrong_ta):\n",
    "    return true_ta[0] + t * (true_ta[-1] - true_ta[0]) / (wrong_ta[-1] - wrong_ta[0])\n",
    "\n",
    "time_arrays[0].shape, data.time_array[obs].shape"
   ]
  },
  {
   "cell_type": "code",
   "execution_count": null,
   "metadata": {},
   "outputs": [],
   "source": [
    "fig, ax = plt.subplots(1, max(n_obs,2), figsize=(25,5), sharey='row')\n",
    "for obs in range(n_obs):\n",
    "    ax[obs].scatter(time_arrays[obs], data.Z[obs,:,0], s=3)\n",
    "    ax[obs].plot(time_arrays[obs], loc_array[obs,:,0], label='prediction', color='red')\n",
    "    ax[obs].ticklabel_format(axis='x',style='plain', useOffset=False)\n",
    "\n",
    "    m, M = data.Z[obs,:,0].min(), data.Z[obs,:,0].max()\n",
    "    ax[obs].vlines(to_real_time(t1-1, time_arrays[obs], data.time_array), \n",
    "                   m, M, 'black', linewidth=3, linestyles='dashed')\n",
    "    ax[obs].vlines(to_real_time(t1+t2 + 1, time_arrays[obs], data.time_array), \n",
    "                   m, M, 'black', linewidth=3, linestyles='dashed')    \n",
    "    \n",
    "#plt.tight_layout()\n",
    "ax[-1].legend()\n",
    "ax[0].set_ylabel('Normalized Flux', fontsize=25)\n",
    "\n",
    "ax1 = fig.add_subplot(111, frameon=False)\n",
    "        \n",
    "plt.tick_params(labelcolor='none', top=False, bottom=False, left=False, right=False)\n",
    "plt.margins(x = 1)\n",
    "plt.xlabel(\"Time [BMJD - 2454000 days]\", fontsize=25, labelpad=-30)\n",
    "#ax2 = plt.gca()\n",
    "ax1.xaxis.set_label_coords(0.5, -0.13)    "
   ]
  },
  {
   "cell_type": "markdown",
   "metadata": {},
   "source": [
    "# Fitting\n"
   ]
  },
  {
   "cell_type": "markdown",
   "metadata": {},
   "source": [
    "### Linear Transit"
   ]
  },
  {
   "cell_type": "code",
   "execution_count": null,
   "metadata": {
    "code_folding": []
   },
   "outputs": [],
   "source": [
    "from deepartransit.utils.transit import LinearTransit\n",
    "fig, ax = plt.subplots(2, max(n_obs,2), figsize=(25,9), sharey='row', sharex='col')\n",
    "\n",
    "transit_component = np.zeros(shape=data.Z.shape)\n",
    "\n",
    "ltransits = []\n",
    "for obs in range(n_obs):\n",
    "    \n",
    "    transit_component[obs] = ((data.scaler_Z.inverse_transform(data.Z)[obs,:,0]-bts[obs])\n",
    "                         / (data.scaler_Z.inverse_transform(loc_array)[obs,:,0]-bts[obs]))[:,np.newaxis]\n",
    "\n",
    "    ax[0, obs].scatter(time_arrays[obs], data.Z[obs,:,0], s=3)\n",
    "    ax[0, obs].plot(time_arrays[obs], loc_array[obs,:,0], label='prediction', color='red')\n",
    "    ax[1, obs].scatter(time_arrays[obs], transit_component[obs,:,0], s=5)\n",
    "    \n",
    "    ltransit = LinearTransit(data.time_array)\n",
    "    ltransit.fit(transit_component[obs,:,0], time_axis=0)\n",
    "    ax[1, obs].plot(time_arrays[obs], ltransit.flux, label='prediction', color='red')\n",
    "    print('{:.2f}'.format(ltransit.delta*100))\n",
    "    mid_time = time_arrays[obs, 0] + ltransit.t_c * (time_arrays[obs, -1] - time_arrays[obs, 0]) / (data.time_array[-1] - data.time_array[0])\n",
    "    ax[1, obs].vlines(mid_time, 0.995*(min(transit_component[obs])), 1, color='grey')\n",
    "    \n",
    "ax[0, obs].set_ylabel('Normalized Flux', fontsize=25)\n",
    "ax[1, obs].set_ylabel('Star-Normalized Flux', fontsize=25)\n",
    "\n",
    "ax1 = fig.add_subplot(111, frameon=False)\n",
    "plt.tick_params(labelcolor='none', top=False, bottom=False, left=False, right=False)\n",
    "plt.margins(x = 1)\n",
    "plt.xlabel(\"Time [BMJD - 2454000 days]\", fontsize=25, labelpad=-30)\n",
    "ax1.xaxis.set_label_coords(0.5, -0.13)    \n",
    "\n",
    "if 'plots' not in os.listdir(experiment_dir):\n",
    "    os.mkdir(os.path.join(experiment_dir, 'plots'))\n",
    "plt.savefig(os.path.join(experiment_dir, 'plots','linear_fit.png'))"
   ]
  },
  {
   "cell_type": "code",
   "execution_count": null,
   "metadata": {},
   "outputs": [],
   "source": [
    "import pandas as pd\n",
    "\n",
    "y = transit_component[0,1:,0]\n",
    "y_series = pd.Series(y)\n",
    "mstd_width = 5\n",
    "err = np.append(y_series[:5].std(), y_series.rolling(mstd_width,1).std().values[1:])"
   ]
  },
  {
   "cell_type": "code",
   "execution_count": null,
   "metadata": {},
   "outputs": [],
   "source": [
    "err.shape"
   ]
  },
  {
   "cell_type": "code",
   "execution_count": null,
   "metadata": {},
   "outputs": [],
   "source": [
    "plt.figure(figsize=(15,5))\n",
    "plt.errorbar(time_arrays[obs,1:], y, err)"
   ]
  },
  {
   "cell_type": "code",
   "execution_count": null,
   "metadata": {},
   "outputs": [],
   "source": [
    "np.save('wasp121_detrended_lc.npy', np.stack([time_arrays[obs,1:], y, err]).T)"
   ]
  },
  {
   "cell_type": "code",
   "execution_count": null,
   "metadata": {},
   "outputs": [],
   "source": [
    "os.listdir('.')"
   ]
  },
  {
   "cell_type": "code",
   "execution_count": null,
   "metadata": {},
   "outputs": [],
   "source": [
    "from pylightcurve import find_oec_parameters\n",
    "(planet, logg, effective_temperature, metallicity, rp_over_rs, fp_over_fs,\n",
    " period, sma_over_rs, eccentricity, inclination, periastron, mid_time) = find_oec_parameters('hd189733b')\n"
   ]
  },
  {
   "cell_type": "code",
   "execution_count": null,
   "metadata": {},
   "outputs": [],
   "source": [
    "(planet, logg, effective_temperature, metallicity, rp_over_rs, fp_over_fs,\n",
    " period, sma_over_rs, eccentricity, inclination, periastron, mid_time)"
   ]
  },
  {
   "cell_type": "code",
   "execution_count": null,
   "metadata": {},
   "outputs": [],
   "source": [
    "inclination, sma_over_rs, period"
   ]
  },
  {
   "cell_type": "code",
   "execution_count": null,
   "metadata": {
    "scrolled": true
   },
   "outputs": [],
   "source": [
    "import time\n",
    "\n",
    "from pylightcurve import TransitAndPolyFitting\n",
    "import pandas as pd\n",
    "\n",
    "fitting_list = []\n",
    "ma_width = 50\n",
    "mstd_width = 4\n",
    "\n",
    "i = 0\n",
    "fitting_folder = 'results_fitting'\n",
    "if os.path.exists(os.path.join(experiment_dir, fitting_folder)):\n",
    "    gmtime = time.gmtime(os.path.getmtime(os.path.join(experiment_dir, fitting_folder)))\n",
    "    t = time.strftime('%y-%m-%d_%H-%M-%S', gmtime)\n",
    "    os.rename(os.path.join(experiment_dir, fitting_folder), \n",
    "              os.path.join(experiment_dir, f'{fitting_folder}_{t}'))\n",
    "os.mkdir(os.path.join(experiment_dir, fitting_folder))\n",
    "\n",
    "for obs in range(n_obs):\n",
    "    # estimate mid_time from linear fit\n",
    "    mid_time = time_arrays[obs, 0] + ltransit.t_c * (time_arrays[obs, -1] - time_arrays[obs, 0]) / (data.time_array[-1] - data.time_array[0])\n",
    "    print(mid_time)\n",
    "    #x = (data.scaler_Z.inverse_transform(data.Z)[obs,:,0])\n",
    "    #y = (x / pd.Series(x).rolling(ma_width,1).mean())\n",
    "    y = pd.Series(transit_component[obs,:,0])\n",
    "    err = np.append(y[:5].std(), y.rolling(mstd_width,1).std().values[1:])\n",
    "    print(err.mean())\n",
    "    transitFittingObject = TransitAndPolyFitting(data=[[time_arrays[obs], \n",
    "                                                        transit_component[obs,:,0],\n",
    "                                                        err\n",
    "                                                ]],\n",
    "                                                method='linear',\n",
    "                                                limb_darkening_coefficients=[0.1],\n",
    "                                                rp_over_rs=rp_over_rs,\n",
    "                                                period=period,\n",
    "                                                sma_over_rs=sma_over_rs,\n",
    "                                                eccentricity=eccentricity,\n",
    "                                                inclination=inclination,\n",
    "                                                periastron=periastron,\n",
    "                                                mid_time = mid_time,\n",
    "                                                iterations= 200_000,\n",
    "                                                walkers= 100,\n",
    "                                                burn= 100_000,\n",
    "                                                precision=3,\n",
    "                                                exp_time=0.,\n",
    "                                                time_factor=1,\n",
    "                                                fit_first_order=False,\n",
    "                                                fit_second_order=False,\n",
    "                                                fit_rp_over_rs=[0.01, 0.2],\n",
    "                                                fit_period=False,\n",
    "                                                fit_sma_over_rs = [sma_over_rs*0.5, sma_over_rs*2],\n",
    "                                                fit_eccentricity = False,\n",
    "                                                fit_inclination = [inclination*0.8, 90],\n",
    "                                                fit_periastron = False,\n",
    "                                                fit_mid_time = [mid_time - period /50, mid_time + period/50],\n",
    "                                                fit_ld=[[0.0,0.5]],\n",
    "                                                counter=True,\n",
    "                                                counter_window=False)\n",
    "    transitFittingObject.fit_ld = True\n",
    "    transitFittingObject.run_mcmc()\n",
    "    fitting_list.append(transitFittingObject.results)\n",
    "    \n",
    "    # Just printing\n",
    "    rp_over_rs_new = transitFittingObject.results['parameters']['rp']\n",
    "    print('Rp/Rs = {:.5f} -{:.6f}/+{:.6f}'.format(rp_over_rs_new['value'], \n",
    "                                                  rp_over_rs_new['m_error'], \n",
    "                                                  rp_over_rs_new['p_error']))\n",
    "    print('(Rp/Rs)**2 = {:.5f} -{:.6f}/+{:.6f}'.format(rp_over_rs_new['value']**2, \n",
    "                                                       np.abs(2 * rp_over_rs_new['m_error'] * rp_over_rs_new['value']), \n",
    "                                                       np.abs(2 * rp_over_rs_new['p_error'] * rp_over_rs_new['value'])))\n",
    "    \n",
    "    # Just saving\n",
    "\n",
    "    transitFittingObject.save_all(os.path.join(experiment_dir, fitting_folder, f'simulation_data_base_{obs}.pickle'))\n",
    "    transitFittingObject.save_results(os.path.join(experiment_dir,fitting_folder, f'simulation_resultsobs_{obs}.txt'))\n",
    "    transitFittingObject.plot_corner(os.path.join(experiment_dir,fitting_folder, f'simulation_correlations_{obs}.pdf'))\n",
    "    transitFittingObject.plot_traces(os.path.join(experiment_dir,fitting_folder, f'simulation_traces_{obs}.pdf'))"
   ]
  },
  {
   "cell_type": "code",
   "execution_count": null,
   "metadata": {},
   "outputs": [],
   "source": [
    "# Reload saved results\n",
    "import pickle\n",
    "fitting_folder = 'results_fitting'\n",
    "with open(os.path.join(experiment_dir, fitting_folder, f'simulation_data_base_{obs}.pickle'), 'rb') as pick_file:\n",
    "    transitFittingObject = pickle.load(pick_file)"
   ]
  },
  {
   "cell_type": "code",
   "execution_count": null,
   "metadata": {
    "scrolled": false
   },
   "outputs": [],
   "source": [
    "fig, ax = plt.subplots(3, max(n_obs,2), figsize=(25,14), sharey='row') #, sharex='col')\n",
    "rol_win = 50\n",
    "for obs in range(n_obs):\n",
    "    ax[0,obs].scatter(time_arrays[obs], transit_component[obs,:,0], s=3)\n",
    "    ax[0,obs].plot(time_arrays[obs], fitting_list[obs]['output_series']['model'], color='red', label='mcmc fit')\n",
    "    \n",
    "    res = fitting_list[obs]['output_series']['residuals']\n",
    "    if obs==1:\n",
    "        res = res.clip(-0.005, 0.005)\n",
    "    ax[1,obs].scatter(time_arrays[obs], res, s=3)\n",
    "\n",
    "    ma_res = pd.Series(res).rolling(rol_win, min_periods=1).mean().values\n",
    "    mstd_res = pd.Series(res).rolling(rol_win, min_periods=1).std().values\n",
    "    ax[1,obs].plot(time_arrays[obs], ma_res, color='red')\n",
    "    ax[1,obs].fill_between(time_arrays[obs], ma_res - mstd_res, ma_res+mstd_res, alpha=0.5)\n",
    "\n",
    "    ax[0,obs].ticklabel_format(axis='x',style='plain', useOffset=False)\n",
    "    ax[1,obs].ticklabel_format(axis='x',style='plain', useOffset=False)\n",
    "    ax[0,obs].tick_params(labeltop=True, labelbottom=False, top=True, bottom=False)\n",
    "    ax[1,obs].tick_params(labeltop=False, labelbottom=False, top=False, bottom=False)\n",
    "    ax[2, obs].bar(range(data.Z.shape[1]),fitting_list[obs]['detrended_statistics']['res_autocorr'] )\n",
    "\n",
    "ax[0, 0].set_ylabel('Normalized Flux', fontsize=25)\n",
    "ax[1, 0].set_ylabel('Residuals', fontsize=25)\n",
    "ax[2, 0].set_ylabel('ACF', fontsize=25)\n",
    "ax[2, 0].set_ylim(-0.25,0.25)\n",
    "    \n",
    "ax1 = fig.add_subplot(111, frameon=False)\n",
    "#ax2 = ax1.twinx()\n",
    "# hide tick and tick label of the big axis\n",
    "plt.tick_params(labelcolor='none', top=False, bottom=False, left=False, right=False)\n",
    "plt.margins(x = 1)\n",
    "plt.xlabel(\"Timesteps\", fontsize=25, labelpad=-30)\n",
    "#ax2 = plt.gca()\n",
    "ax1.xaxis.set_label_coords(0.5, -0.05)     \n",
    "    \n",
    "    \n",
    "#ax2 = fig.add_subplot(111, frameon=False)\n",
    "ax2 = ax1.twiny()\n",
    "# hide tick and tick label of the big axis\n",
    "plt.tick_params(labelcolor='none', top=False, bottom=False, left=False, right=False)\n",
    "plt.margins(x = 1)\n",
    "plt.xlabel(\"Time [BMJD - 2454000 days]\", fontsize=25, labelpad=-30)\n",
    "#ax2 = plt.gca()\n",
    "ax2.xaxis.set_label_coords(0.5, 1.07) \n",
    "#ax.set_xlabel('xlabel', ha='left', va = 'top', )\n",
    "#plt.subplots_adjust(bottom=0.8)\n",
    "\n",
    "\n",
    "if 'plots' not in os.listdir(experiment_dir):\n",
    "    os.mkdir(os.path.join(experiment_dir, 'plots'))\n",
    "if 'mcmc_fit.png' in os.listdir(os.path.join(experiment_dir, 'plots')):\n",
    "    ct = time.strftime('%y-%m-%d_%H-%M-%S',  \n",
    "                       time.gmtime(os.path.getmtime(os.path.join(experiment_dir, 'plots','mcmc_fit.png'))))\n",
    "    os.rename(os.path.join(experiment_dir, 'plots', 'mcmc_fit.png'),\n",
    "              os.path.join(experiment_dir, 'plots', 'mcmc_fit_{}.png'.format(ct))\n",
    "             )\n",
    "plt.savefig(os.path.join(experiment_dir, 'plots','mcmc_fit.png'))"
   ]
  },
  {
   "cell_type": "markdown",
   "metadata": {},
   "source": [
    "## Multi-observations: Plotting and printing"
   ]
  },
  {
   "cell_type": "code",
   "execution_count": null,
   "metadata": {
    "code_folding": [
     1
    ]
   },
   "outputs": [],
   "source": [
    "# Defining weighted avg function, which computes both weighted average and std of this weighted average\n",
    "def weighted_avg(x, sigma):\n",
    "    x = np.array(x)\n",
    "    sigma = np.array(sigma)\n",
    "    try:\n",
    "        if sigma.shape[1] == 2:\n",
    "            sigma = sigma.mean(1)\n",
    "    \n",
    "    except IndexError:\n",
    "        pass\n",
    "    print(x.shape,sigma.shape)\n",
    "    assert x.shape == sigma.shape\n",
    "    \n",
    "    weights = 1 / (np.array(sigma)**2)\n",
    "    weighted_mean_delta = np.sum((x * weights )) / weights.sum()\n",
    "    std_weighted_mean_delta = np.sqrt(1 / weights.sum())\n",
    "\n",
    "    return weighted_mean_delta, std_weighted_mean_delta"
   ]
  },
  {
   "cell_type": "code",
   "execution_count": null,
   "metadata": {},
   "outputs": [],
   "source": [
    "plt.figure(figsize=(15,5))\n",
    "\n",
    "deltas = np.array([fitting_list[obs]['parameters']['rp']['value']**2 for obs in range(n_obs)])\n",
    "deltas_errors = np.array([[fitting_list[obs]['parameters']['rp']['m_error']* rp_over_rs_new['value'] * 2,\n",
    "        fitting_list[obs]['parameters']['rp']['p_error']* rp_over_rs_new['value'] * 2] \n",
    "       for obs in range(n_obs)])\n",
    "\n",
    "\n",
    "mu, sigmu = weighted_avg(deltas, deltas_errors)\n",
    "plt.errorbar(range(1, n_obs+1), \n",
    "             deltas, \n",
    "             yerr=deltas_errors.T,\n",
    "             markersize=5, fmt='o',)\n",
    "plt.hlines(mu, 1,6 , color= 'black')\n",
    "plt.hlines(mu-sigmu, 1,6, linestyle='dashed', color= 'black')\n",
    "plt.hlines(mu+sigmu, 1,6, linestyle='dashed', color= 'black')\n",
    "\n"
   ]
  },
  {
   "cell_type": "code",
   "execution_count": null,
   "metadata": {
    "scrolled": false
   },
   "outputs": [],
   "source": [
    "par_names_pylc = ['rp', 'ldc1', 'a','i']\n",
    "par_names = ['$R_p/R_s$', '$u$', '$a/R_s$','$i$']\n",
    "weighted_mu_dict = {}\n",
    "f,ax = plt.subplots(len(par_names)//2,len(par_names)//2, figsize=(15, 8), sharex='col')\n",
    "for i, parameter in enumerate(par_names_pylc):\n",
    "    print(parameter)\n",
    "    #param = fitting_list[obs]['parameters'][]\n",
    "    \n",
    "    par_values = [fitting_list[obs]['parameters'][parameter]['value'] for obs in range(n_obs)]\n",
    "    par_errors = np.array([[fitting_list[obs]['parameters'][parameter]['m_error'],\n",
    "                            fitting_list[obs]['parameters'][parameter]['p_error']] for obs in range(n_obs)])\n",
    "    ix = i//2\n",
    "    iy = (i % 2)\n",
    "    print(ix,iy)\n",
    "    ax[ix,iy].errorbar(range(1, n_obs+1), par_values, yerr=par_errors.T, markersize=5, fmt='o')\n",
    "    \n",
    "    mu, sigmu = weighted_avg(par_values, par_errors)\n",
    "    ax[ix,iy].hlines(mu, 1,6 , color= 'black', \n",
    "                     label=\"$\\overline{{{}}}={:.4g}$\".format(par_names[i][1:-1], mu))\n",
    "    ax[ix,iy].hlines(mu-sigmu, 1,6, linestyle='dashed', color= 'black')\n",
    "    ax[ix,iy].hlines(mu+sigmu, 1,6, linestyle='dashed', color= 'black')\n",
    "    ax[ix,iy].legend()\n",
    "    ax[ix,iy].set_ylabel(par_names[i], fontsize=20)\n",
    "    \n",
    "    weighted_mu_dict[parameter] = mu\n",
    "    \n",
    "ax[-1, 0].set_xlabel('Observation number', fontsize=20)\n",
    "ax[-1, 1].set_xlabel('Observation number', fontsize=20)\n",
    "\n",
    "plt.show()"
   ]
  },
  {
   "cell_type": "markdown",
   "metadata": {},
   "source": [
    "# Latex Print"
   ]
  },
  {
   "cell_type": "code",
   "execution_count": null,
   "metadata": {},
   "outputs": [],
   "source": [
    "latex_string = \"\"\n",
    "prec_val = [6,5,4,3,3]\n",
    "for obs in range(6):\n",
    "    latex_val_list = []\n",
    "    latex_err_list = []\n",
    "    for parameter in ['mt', 'rp', 'i', 'a', 'ldc1']:\n",
    "        latex_val_list.append(fitting_list[obs]['parameters'][parameter]['value'])\n",
    "        latex_err_list.append(max(fitting_list[obs]['parameters'][parameter]['m_error'], fitting_list[obs]['parameters'][parameter]['p_error']))\n",
    "        if parameter == \"mt\":\n",
    "            #latex_val_list[-1] -= 2454000\n",
    "            pass\n",
    "    latex_string += '\\t'*2\n",
    "    latex_string += \" & \".join([\"${0:.{2}f}\\pm{{{1:.{3}f}}}$\".format(latex_val_list[i], \n",
    "                                                                     latex_err_list[i],\n",
    "                                                                     prec_val[i],\n",
    "                                                                     prec_val[i]\n",
    "                                                                    ) for i in range(len(latex_val_list))])\n",
    "    latex_string += ' \\\\\\\\\\n'\n",
    "print(latex_string)"
   ]
  },
  {
   "cell_type": "code",
   "execution_count": null,
   "metadata": {},
   "outputs": [],
   "source": [
    "# Just testing Latex rendering\n",
    "from IPython.display import Latex\n",
    "Latex(latex_string)"
   ]
  },
  {
   "cell_type": "markdown",
   "metadata": {},
   "source": [
    "## Plot with Agol"
   ]
  },
  {
   "cell_type": "code",
   "execution_count": null,
   "metadata": {},
   "outputs": [],
   "source": [
    "agol_deltas = np.array([2.4022, 2.4253, 2.4333, 2.4224, 2.3984, 2.3965])\n",
    "agol_deltas_unc = np.array([47,63,51,49,62,74])/10_000\n",
    "agol_deltas.shape, agol_deltas_unc.shape, deltas.shape, deltas_errors.shape"
   ]
  },
  {
   "cell_type": "code",
   "execution_count": null,
   "metadata": {},
   "outputs": [],
   "source": [
    "# Scatter\n",
    "agol_deltas.std(), np.array(deltas).std()"
   ]
  },
  {
   "cell_type": "code",
   "execution_count": null,
   "metadata": {},
   "outputs": [],
   "source": [
    "deltas, agol_deltas"
   ]
  },
  {
   "cell_type": "code",
   "execution_count": null,
   "metadata": {},
   "outputs": [],
   "source": [
    "wm, ws = weighted_avg(deltas*100, deltas_errors*100)\n",
    "wma,wsa = weighted_avg(agol_deltas, agol_deltas_unc)\n",
    "\n",
    "wm, wma, (wma - wm), (wma-wm)/ws"
   ]
  },
  {
   "cell_type": "code",
   "execution_count": null,
   "metadata": {},
   "outputs": [],
   "source": [
    "plt.figure(figsize=(15,5))\n",
    "p = plt.errorbar(np.arange(6)+0.02, 100*np.array(deltas), yerr=100*deltas_errors.T, \n",
    "             fmt='o', label='This paper', markersize = 8)\n",
    "p2 = plt.errorbar(np.arange(6)-0.02, agol_deltas, yerr=agol_deltas_unc,  markersize = 8,\n",
    "             fmt='o', label='Agol et al.')\n",
    "\n",
    "\n",
    "plt.hlines(weighted_avg(100*deltas, 100*deltas_errors)[0], 0,5 , color= p[0].get_color())\n",
    "plt.hlines(weighted_avg(100*deltas, 100*deltas_errors)[0] + weighted_avg(100*deltas, 100*deltas_errors)[1], \n",
    "           0,5, linestyle='dashed', color= p[0].get_color())\n",
    "plt.hlines(weighted_avg(100*deltas, 100*deltas_errors)[0] - weighted_avg(100*deltas, 100*deltas_errors)[1], \n",
    "           0,5, linestyle='dashed', color= p[0].get_color())\n",
    "\n",
    "\n",
    "plt.hlines(weighted_avg(agol_deltas, agol_deltas_unc)[0], 0,5 , color= p2[0].get_color())\n",
    "plt.hlines(weighted_avg(agol_deltas, agol_deltas_unc)[0] + weighted_avg(deltas, agol_deltas_unc)[1], \n",
    "           0,5, linestyle='dashed', color= p2[0].get_color())\n",
    "plt.hlines(weighted_avg(agol_deltas, agol_deltas_unc)[0] - weighted_avg(deltas, agol_deltas_unc)[1], \n",
    "           0,5, linestyle='dashed', color= p2[0].get_color())\n",
    "\n",
    "\n",
    "plt.legend()\n",
    "plt.xlabel('Observation Number', fontsize=25)\n",
    "\n",
    "plt.ylabel('$(R_p/R_*)^2$  $[\\%]$', fontsize=25)\n",
    "pass"
   ]
  },
  {
   "cell_type": "markdown",
   "metadata": {},
   "source": [
    "## Second run with $i$, $u$ and $a/R_S$ fixed\n"
   ]
  },
  {
   "cell_type": "code",
   "execution_count": null,
   "metadata": {},
   "outputs": [],
   "source": [
    "fitting_list_2 = []\n",
    "ma_width = 50\n",
    "mstd_width = 5\n",
    "for obs in range(n_obs):\n",
    "    # estimate mid_time from linear fit\n",
    "    mid_time = time_arrays[obs, 0] + ltransit.t_c * (time_arrays[obs, -1] - time_arrays[obs, 0]) / (data.time_array[-1] - data.time_array[0])\n",
    "    \n",
    "    y = pd.Series(transit_component[obs,:,0])\n",
    "    err = np.append(y[:5].std(), y.rolling(mstd_width,1).std().values[1:])\n",
    "    transitFittingObject = TransitAndPolyFitting(data=[[time_arrays[obs], \n",
    "                                                        transit_component[obs,:,0],\n",
    "                                                        err\n",
    "                                                ]],\n",
    "                                                method='linear',\n",
    "                                                limb_darkening_coefficients=[weighted_mu_dict['ldc1']], ##########\n",
    "                                                rp_over_rs=weighted_mu_dict['rp'],\n",
    "                                                period=period,\n",
    "                                                sma_over_rs=weighted_mu_dict['a'], #########\n",
    "                                                eccentricity=eccentricity,\n",
    "                                                inclination=weighted_mu_dict['i'], ########\n",
    "                                                periastron=periastron,\n",
    "                                                mid_time = mid_time,\n",
    "                                                iterations= 50_000,\n",
    "                                                walkers= 100,\n",
    "                                                burn= 25_000,\n",
    "                                                precision=3,\n",
    "                                                exp_time=0.,\n",
    "                                                time_factor=1,\n",
    "                                                fit_first_order=False,\n",
    "                                                fit_second_order=False,\n",
    "                                                fit_rp_over_rs=[0.14, 0.17],\n",
    "                                                fit_period=False,\n",
    "                                                fit_sma_over_rs = False,\n",
    "                                                fit_eccentricity = False,\n",
    "                                                fit_inclination = False,\n",
    "                                                fit_periastron = False,\n",
    "                                                fit_mid_time = [mid_time - period /50, mid_time + period/50],\n",
    "                                                fit_ld=False,\n",
    "                                                counter=True,\n",
    "                                                counter_window=False)\n",
    "    transitFittingObject.fit_ld = True\n",
    "    transitFittingObject.run_mcmc()\n",
    "    fitting_list_2.append(transitFittingObject.results)\n",
    "    \n",
    "    # Just printing\n",
    "    rp_over_rs_new = transitFittingObject.results['parameters']['rp']\n",
    "    print('Rp/Rs = {:.5f} -{:.6f}/+{:.6f}'.format(rp_over_rs_new['value'], \n",
    "                                                  rp_over_rs_new['m_error'], \n",
    "                                                  rp_over_rs_new['p_error']))\n",
    "    print('(Rp/Rs)**2 = {:.5f} -{:.6f}/+{:.6f}'.format(rp_over_rs_new['value']**2, \n",
    "                                                       np.abs(2 * rp_over_rs_new['m_error'] * rp_over_rs_new['value']), \n",
    "                                                       np.abs(2 * rp_over_rs_new['p_error'] * rp_over_rs_new['value'])))\n",
    "    \n",
    "    # Just saving\n",
    "    transitFittingObject.save_all(f'fit_results/simulation_data_base_{obs}_2.pickle')\n",
    "    transitFittingObject.save_results(f'fit_results/simulation_resultsobs_{obs}_2.txt')\n",
    "    transitFittingObject.plot_corner(f'fit_results/simulation_correlations_{obs}_2.pdf')\n",
    "    transitFittingObject.plot_traces(f'fit_results/simulation_traces_{obs}_2.pdf')"
   ]
  },
  {
   "cell_type": "code",
   "execution_count": null,
   "metadata": {},
   "outputs": [],
   "source": [
    "plt.figure(figsize=(15,5))\n",
    "\n",
    "\n",
    "deltas = np.array([fitting_list_2[obs]['parameters']['rp']['value']**2 for obs in range(n_obs)])\n",
    "deltas_errors = np.array([[fitting_list_2[obs]['parameters']['rp']['m_error']* rp_over_rs_new['value'] * 2,\n",
    "        fitting_list[obs]['parameters']['rp']['p_error']* rp_over_rs_new['value'] * 2] \n",
    "       for obs in range(n_obs)])\n",
    "\n",
    "\n",
    "mu, sigmu = weighted_avg(deltas, deltas_errors)\n",
    "plt.errorbar(range(1, n_obs+1), \n",
    "             deltas, \n",
    "             yerr=deltas_errors.T,\n",
    "             markersize=5, fmt='-o',)\n",
    "plt.hlines(mu, 1,6 , color= p[0].get_color())\n",
    "plt.hlines(mu-sigmu, 1,6, linestyle='dashed', color= 'black')\n",
    "plt.hlines(mu+sigmu, 1,6, linestyle='dashed', color= 'black')\n"
   ]
  },
  {
   "cell_type": "code",
   "execution_count": null,
   "metadata": {},
   "outputs": [],
   "source": []
  }
 ],
 "metadata": {
  "kernelspec": {
   "display_name": "Python (deepartransit)",
   "language": "python",
   "name": "deepartransit"
  },
  "language_info": {
   "codemirror_mode": {
    "name": "ipython",
    "version": 3
   },
   "file_extension": ".py",
   "mimetype": "text/x-python",
   "name": "python",
   "nbconvert_exporter": "python",
   "pygments_lexer": "ipython3",
   "version": "3.7.0"
  }
 },
 "nbformat": 4,
 "nbformat_minor": 2
}
