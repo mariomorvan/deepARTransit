{
 "cells": [
  {
   "cell_type": "code",
   "execution_count": 2,
   "metadata": {
    "code_folding": [
     0
    ],
    "scrolled": true
   },
   "outputs": [],
   "source": [
    "# General imports and widgets\n",
    "import os\n",
    "if os.getcwd().split('/')[-1] != 'deepARTransit':\n",
    "    os.chdir('../..')\n",
    "import sys\n",
    "import warnings\n",
    "import numpy as np\n",
    "import matplotlib.pylab as plt\n",
    "from pixlc import plotting\n",
    "import ipywidgets as widgets\n",
    "\n",
    "plt.rcParams['figure.figsize'] = (16, 6)\n",
    "plt.rcParams['font.size'] = 15\n",
    "warnings.simplefilter(\"ignore\")\n",
    "\n",
    "# Project dir selection widget\n",
    "\n",
    "project_button = widgets.Dropdown(\n",
    "    options=[os.path.join('.'), # local git repo\n",
    "             os.path.join('/','Users','Mario','mount_test','deepARTransit') # cobweb         \n",
    "],\n",
    "    #value=experiment_folder,\n",
    "    # rows=10,\n",
    "    description='\\t\\t',\n",
    "    disabled=False\n",
    ")\n",
    "\n",
    "# Experiment selection widget\n",
    "\n",
    "experiment_button = widgets.Dropdown(\n",
    "    options=[os.path.join('cobweb', 'deeparsys_fulltime'),\n",
    "             os.path.join('cobweb', 'deepartrans_fulltime'), \n",
    "             os.path.join('cobweb', 'rlc', 'deeparsys_nocov'),\n",
    "             os.path.join('cobweb', 'rlc', 'deeparsys_cent'),\n",
    "             os.path.join('cobweb', 'rlc', 'deeparsys_cent_2'),\n",
    "             os.path.join('cobweb', 'rlc','deeparsys_pix'),\n",
    "             os.path.join('cobweb', 'rlc','deeparsys_cent_pix'),\n",
    "             os.path.join('cobweb', 'rlc','deeparsys_cent_24537600'),\n",
    "             os.path.join('cobweb', 'rlc','deeparsys_cent_22808832'),\n",
    "             os.path.join('cobweb', 'rlc','deeparsys_cent_27773440'),\n",
    "],\n",
    "    #value=experiment_folder,\n",
    "    # rows=10,\n",
    "    description='\\t\\t',\n",
    "    disabled=False\n",
    ")"
   ]
  },
  {
   "cell_type": "code",
   "execution_count": 3,
   "metadata": {
    "scrolled": true
   },
   "outputs": [
    {
     "data": {
      "application/vnd.jupyter.widget-view+json": {
       "model_id": "686609689bbd4f7f9aa779ebd8cb3559",
       "version_major": 2,
       "version_minor": 0
      },
      "text/plain": [
       "Dropdown(description='\\t\\t', options=('.', '/Users/Mario/mount_test/deepARTransit'), value='.')"
      ]
     },
     "metadata": {},
     "output_type": "display_data"
    }
   ],
   "source": [
    "#project directory for loading the data\n",
    "project_button"
   ]
  },
  {
   "cell_type": "code",
   "execution_count": 4,
   "metadata": {
    "scrolled": true
   },
   "outputs": [
    {
     "data": {
      "application/vnd.jupyter.widget-view+json": {
       "model_id": "20b684021d5b4feaac28645686267779",
       "version_major": 2,
       "version_minor": 0
      },
      "text/plain": [
       "Dropdown(description='\\t\\t', options=('cobweb/deeparsys_fulltime', 'cobweb/deepartrans_fulltime', 'cobweb/rlc/…"
      ]
     },
     "metadata": {},
     "output_type": "display_data"
    }
   ],
   "source": [
    "#Select an experime\n",
    "experiment_button"
   ]
  },
  {
   "cell_type": "code",
   "execution_count": 5,
   "metadata": {
    "scrolled": true
   },
   "outputs": [
    {
     "name": "stdout",
     "output_type": "stream",
     "text": [
      "/Users/Mario/mount_test/deepARTransit/deepartransit/experiments/cobweb/rlc/deeparsys_cent_27773440\n",
      "Data and covariates shapes:\n",
      "(1, 690, 1) (1, 690, 2)\n",
      "time_path parameter not found in config. Default to 0,1,2....T-1\n"
     ]
    }
   ],
   "source": [
    "from utils.config import get_config_file, process_config\n",
    "from deepartransit.data_handling import data_generator\n",
    "\n",
    "experiment_folder = experiment_button.value\n",
    "project_dir = project_button.value\n",
    "experiment_dir = os.path.join(project_dir, 'deepartransit', 'experiments', experiment_folder)\n",
    "print(experiment_dir)\n",
    "config_file = get_config_file(experiment_dir)\n",
    "config = process_config(config_file)\n",
    "print('Data and covariates shapes:')\n",
    "data = data_generator.DataGenerator(config)\n",
    "width = int(np.sqrt(data.Z.shape[0]))\n",
    "\n",
    "#os.listdir(os.path.join(project_dir, config.output_dir))"
   ]
  },
  {
   "cell_type": "code",
   "execution_count": 6,
   "metadata": {
    "scrolled": true
   },
   "outputs": [
    {
     "name": "stdout",
     "output_type": "stream",
     "text": [
      "pred_array.npy\n"
     ]
    },
    {
     "data": {
      "text/plain": [
       "[50,\n",
       " 100,\n",
       " 150,\n",
       " 200,\n",
       " 250,\n",
       " 300,\n",
       " 350,\n",
       " 400,\n",
       " 450,\n",
       " 500,\n",
       " 550,\n",
       " 600,\n",
       " 650,\n",
       " 700,\n",
       " 750,\n",
       " 800,\n",
       " 850,\n",
       " 900,\n",
       " 950,\n",
       " 1000,\n",
       " 1050,\n",
       " 1100,\n",
       " 1150,\n",
       " 1200,\n",
       " 1250,\n",
       " 1300,\n",
       " 1350,\n",
       " 1400,\n",
       " 1450,\n",
       " 1500]"
      ]
     },
     "execution_count": 6,
     "metadata": {},
     "output_type": "execute_result"
    }
   ],
   "source": [
    "d = {}\n",
    "for fn in [s for s in os.listdir(os.path.join(project_dir, config.output_dir)) if (s[:4] == 'pred')]:\n",
    "    step = fn.split('_')[-1].split('.')[0]\n",
    "    try:\n",
    "        d[int(step)] = np.load(os.path.join(project_dir, config.output_dir, fn))#.mean(axis=0)\n",
    "        #pred_instr = traces_array.mean(axis=(0))\n",
    "        #length_pred = pred_instr.shape[1]\n",
    "        #plc_trans = data.Z[:, config.pretrans_length:config.pretrans_length+config.trans_length+1]\n",
    "    except:\n",
    "        print(fn)\n",
    "        continue\n",
    "step_list = sorted([int(k) for k in d if k!='array'])\n",
    "step_list"
   ]
  },
  {
   "cell_type": "code",
   "execution_count": 9,
   "metadata": {
    "code_folding": [],
    "scrolled": false
   },
   "outputs": [
    {
     "data": {
      "application/vnd.jupyter.widget-view+json": {
       "model_id": "5fe4f62087444698b277f8db4f9606d3",
       "version_major": 2,
       "version_minor": 0
      },
      "text/plain": [
       "interactive(children=(IntSlider(value=1500, description='step', max=1500, min=50, step=50), Output(layout=Layo…"
      ]
     },
     "metadata": {},
     "output_type": "display_data"
    }
   ],
   "source": [
    "# Visualize evolution of predictions and fits\n",
    "from ipywidgets import interactive\n",
    "from utils.transit import LinearTransit\n",
    "\n",
    "pred_range = range(config.pretrans_length, config.pretrans_length+ config.trans_length + 1)\n",
    "\n",
    "def update(step = step_list[-1]):#(50, 400, 50)):\n",
    "    loc_k = np.load(os.path.join(project_dir, config.output_dir, 'loc_array_{}.npy'.format(step))).flatten()\n",
    "    \n",
    "    t_c, delta, T, tau = np.load(os.path.join(project_dir, config.output_dir, 'trans_pars_{}.npy'.format(step)))\n",
    "    transit = LinearTransit(data.time_array, [t_c, delta, T, tau])\n",
    "    \n",
    "    scales_k = np.load(os.path.join(project_dir, config.output_dir, 'scales_array_{}.npy'.format(step))).flatten()\n",
    "    plt.plot(data.Z.flatten())\n",
    "    plt.plot()\n",
    "    p = plt.plot(loc_k)\n",
    "    plt.fill_between(data.time_array, loc_k - 2 * scales_k, loc_k + 2* scales_k, alpha= 0.3, color=p[0].get_color())\n",
    "    plt.plot(pred_range, d[step][:,0,:,0].T, label=step, color='grey', linewidth=0.2, alpha= 0.3)\n",
    "    plt.plot(pred_range, d[step][:,0,:,0].mean(0), label=step, color='red', linewidth=1)\n",
    "    plt.plot(pred_range, data.scaler_Z.transform(data.scaler_Z.inverse_transform(d[step][:,0,:,0].mean(0)) *\n",
    "                                                 transit.flux[pred_range]).flatten(), \n",
    "             label=step, color='red', linewidth=1, alpha=0.7)\n",
    "    \n",
    "    print('transit depth: {}'.format([t_c, delta, T, tau]))\n",
    "    plt.title('step {}'.format(step))\n",
    "    plt.show()\n",
    "    plt.plot(data.scaler_Z.inverse_transform(data.Z).flatten()/\n",
    "             data.scaler_Z.inverse_transform(loc_k).flatten())\n",
    "    plt.plot(transit.flux, color='red')\n",
    "    plt.show()\n",
    "\n",
    "interactive_plot = interactive(update, step=(step_list[0], step_list[-1], config.freq_eval))\n",
    "output = interactive_plot.children[-1]\n",
    "output.layout.height = '800px'\n",
    "interactive_plot\n",
    "\n"
   ]
  },
  {
   "cell_type": "code",
   "execution_count": null,
   "metadata": {},
   "outputs": [],
   "source": []
  }
 ],
 "metadata": {
  "kernelspec": {
   "display_name": "Python (deepartransit)",
   "language": "python",
   "name": "deepartransit"
  },
  "language_info": {
   "codemirror_mode": {
    "name": "ipython",
    "version": 3
   },
   "file_extension": ".py",
   "mimetype": "text/x-python",
   "name": "python",
   "nbconvert_exporter": "python",
   "pygments_lexer": "ipython3",
   "version": "3.7.3"
  }
 },
 "nbformat": 4,
 "nbformat_minor": 2
}
