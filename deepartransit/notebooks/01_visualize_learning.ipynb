{
 "cells": [
  {
   "cell_type": "code",
   "execution_count": 6,
   "metadata": {
    "code_folding": [
     0
    ]
   },
   "outputs": [],
   "source": [
    "# General imports and widgets\n",
    "import os\n",
    "if os.getcwd().split('/')[-1] != 'deepARTransit':\n",
    "    os.chdir('../..')\n",
    "import sys\n",
    "import warnings\n",
    "import numpy as np\n",
    "import matplotlib.pylab as plt\n",
    "from pixlc import plotting\n",
    "import ipywidgets as widgets\n",
    "\n",
    "plt.rcParams['figure.figsize'] = (16, 6)\n",
    "plt.rcParams['font.size'] = 15\n",
    "warnings.simplefilter(\"ignore\")\n",
    "\n",
    "# Project dir selection widget\n",
    "\n",
    "project_button = widgets.Dropdown(\n",
    "    options=[os.path.join('.'), # local git repo\n",
    "             os.path.join('/','Users','Mario','mount_test','deepARTransit') # cobweb         \n",
    "],\n",
    "    #value=experiment_folder,\n",
    "    # rows=10,\n",
    "    description='\\t\\t',\n",
    "    disabled=False\n",
    ")\n",
    "\n",
    "# Experiment selection widget\n",
    "\n",
    "experiment_button = widgets.Dropdown(\n",
    "    options=[os.path.join('cobweb', 'deeparsys_fulltime'),\n",
    "             os.path.join('cobweb', 'deepartrans_fulltime'), \n",
    "             os.path.join('cobweb', 'rlc', 'deeparsys_nocov'),\n",
    "             os.path.join('cobweb', 'rlc', 'deeparsys_cent'),\n",
    "             os.path.join('cobweb', 'rlc', 'deeparsys_cent_2'),\n",
    "             os.path.join('cobweb', 'rlc','deeparsys_pix'),\n",
    "             os.path.join('cobweb', 'rlc','deeparsys_cent_pix'),\n",
    "             os.path.join('cobweb', 'rlc','deeparsys_cent_24537600'),\n",
    "             os.path.join('cobweb', 'rlc','deeparsys_cent_22808832'),\n",
    "             os.path.join('cobweb', 'rlc','deeparsys_cent_27773440'),\n",
    "],\n",
    "    #value=experiment_folder,\n",
    "    # rows=10,\n",
    "    description='\\t\\t',\n",
    "    disabled=False\n",
    ")"
   ]
  },
  {
   "cell_type": "code",
   "execution_count": 7,
   "metadata": {},
   "outputs": [
    {
     "data": {
      "application/vnd.jupyter.widget-view+json": {
       "model_id": "14599eacbe434b3b8092c76bda0ebebd",
       "version_major": 2,
       "version_minor": 0
      },
      "text/plain": [
       "Dropdown(description='\\t\\t', options=('.', '/Users/Mario/mount_test/deepARTransit'), value='.')"
      ]
     },
     "metadata": {},
     "output_type": "display_data"
    }
   ],
   "source": [
    "#project directory for loading the data\n",
    "project_button"
   ]
  },
  {
   "cell_type": "code",
   "execution_count": 8,
   "metadata": {},
   "outputs": [
    {
     "data": {
      "application/vnd.jupyter.widget-view+json": {
       "model_id": "92ad5a8f1a95457890880e9529493196",
       "version_major": 2,
       "version_minor": 0
      },
      "text/plain": [
       "Dropdown(description='\\t\\t', options=('cobweb/deeparsys_fulltime', 'cobweb/deepartrans_fulltime', 'cobweb/rlc/…"
      ]
     },
     "metadata": {},
     "output_type": "display_data"
    }
   ],
   "source": [
    "#Select an experime\n",
    "experiment_button"
   ]
  },
  {
   "cell_type": "code",
   "execution_count": 73,
   "metadata": {},
   "outputs": [
    {
     "name": "stdout",
     "output_type": "stream",
     "text": [
      "/Users/Mario/mount_test/deepARTransit/deepartransit/experiments/cobweb/rlc/deeparsys_cent\n",
      "Data and covariates shapes:\n",
      "(1, 690, 1) (1, 690, 2)\n",
      "time_path parameter not found in config. Default to 0,1,2....T-1\n"
     ]
    }
   ],
   "source": [
    "from utils.config import get_config_file, process_config\n",
    "from deepartransit.data_handling import data_generator\n",
    "\n",
    "experiment_folder = experiment_button.value\n",
    "project_dir = project_button.value\n",
    "experiment_dir = os.path.join(project_dir, 'deepartransit', 'experiments', experiment_folder)\n",
    "print(experiment_dir)\n",
    "config_file = get_config_file(experiment_dir)\n",
    "config = process_config(config_file)\n",
    "print('Data and covariates shapes:')\n",
    "data = data_generator.DataGenerator(config)\n",
    "width = int(np.sqrt(data.Z.shape[0]))\n",
    "\n"
   ]
  },
  {
   "cell_type": "code",
   "execution_count": 74,
   "metadata": {},
   "outputs": [
    {
     "data": {
      "text/plain": [
       "['loc_array_10.npy',\n",
       " 'scales_array_10.npy',\n",
       " 'pred_array_10.npy',\n",
       " 'trans_pars_10.npy',\n",
       " 'loc_array_20.npy',\n",
       " 'scales_array_20.npy',\n",
       " 'pred_array_20.npy',\n",
       " 'trans_pars_20.npy',\n",
       " 'loc_array_30.npy',\n",
       " 'scales_array_30.npy',\n",
       " 'pred_array_30.npy',\n",
       " 'trans_pars_30.npy',\n",
       " 'loc_array_40.npy',\n",
       " 'scales_array_40.npy',\n",
       " 'pred_array_40.npy',\n",
       " 'trans_pars_40.npy',\n",
       " 'loc_array_50.npy',\n",
       " 'scales_array_50.npy',\n",
       " 'pred_array_50.npy',\n",
       " 'trans_pars_50.npy',\n",
       " 'pred_array.npy',\n",
       " 'loc_array_60.npy',\n",
       " 'scales_array_60.npy',\n",
       " 'pred_array_60.npy',\n",
       " 'trans_pars_60.npy',\n",
       " 'loc_array_70.npy',\n",
       " 'scales_array_70.npy',\n",
       " 'pred_array_70.npy',\n",
       " 'trans_pars_70.npy',\n",
       " 'loc_array_80.npy',\n",
       " 'scales_array_80.npy',\n",
       " 'pred_array_80.npy',\n",
       " 'trans_pars_80.npy',\n",
       " 'loc_array_90.npy',\n",
       " 'scales_array_90.npy',\n",
       " 'pred_array_90.npy',\n",
       " 'trans_pars_90.npy',\n",
       " 'loc_array_100.npy',\n",
       " 'scales_array_100.npy',\n",
       " 'pred_array_100.npy',\n",
       " 'trans_pars_100.npy']"
      ]
     },
     "execution_count": 74,
     "metadata": {},
     "output_type": "execute_result"
    }
   ],
   "source": [
    "os.listdir(os.path.join(project_dir, config.output_dir))"
   ]
  },
  {
   "cell_type": "code",
   "execution_count": 75,
   "metadata": {},
   "outputs": [
    {
     "name": "stdout",
     "output_type": "stream",
     "text": [
      "pred_array.npy\n"
     ]
    }
   ],
   "source": [
    "d = {}\n",
    "for fn in [s for s in os.listdir(os.path.join(project_dir, config.output_dir)) if (s[:4] == 'pred')]:\n",
    "    step = fn.split('_')[-1].split('.')[0]\n",
    "    try:\n",
    "        d[int(step)] = np.load(os.path.join(project_dir, config.output_dir, fn))#.mean(axis=0)\n",
    "        #pred_instr = traces_array.mean(axis=(0))\n",
    "        #length_pred = pred_instr.shape[1]\n",
    "        #plc_trans = data.Z[:, config.pretrans_length:config.pretrans_length+config.trans_length+1]\n",
    "    except:\n",
    "        print(fn)\n",
    "        continue"
   ]
  },
  {
   "cell_type": "code",
   "execution_count": 76,
   "metadata": {},
   "outputs": [
    {
     "name": "stdout",
     "output_type": "stream",
     "text": [
      "[10, 20, 30, 40, 50, 60, 70, 80, 90, 100]\n"
     ]
    }
   ],
   "source": [
    "step_list = sorted([int(k) for k in d if k!='array'])\n",
    "#sorted_preds = [d[k] for k in step_list]\n",
    "#sorted_preds[0].shape, len(sorted_preds)\n",
    "print(step_list)"
   ]
  },
  {
   "cell_type": "code",
   "execution_count": 77,
   "metadata": {},
   "outputs": [],
   "source": [
    "#plt.plot(d[270][:,0,:,0].T)"
   ]
  },
  {
   "cell_type": "code",
   "execution_count": 96,
   "metadata": {
    "code_folding": [
     0
    ]
   },
   "outputs": [
    {
     "data": {
      "application/vnd.jupyter.widget-view+json": {
       "model_id": "553beb6198764b66a40d63345541655f",
       "version_major": 2,
       "version_minor": 0
      },
      "text/plain": [
       "interactive(children=(IntSlider(value=100, description='k', min=10, step=10), Output()), _dom_classes=('widget…"
      ]
     },
     "metadata": {},
     "output_type": "display_data"
    }
   ],
   "source": [
    "# Visualize evolution of predictions and fits\n",
    "from ipywidgets import interact\n",
    "from utils.transit import transit_linear\n",
    "\n",
    "pred_range = range(config.pretrans_length, config.pretrans_length+ config.trans_length + 1)\n",
    "\n",
    "def update(k = step_list[-1]):#(50, 400, 50)):\n",
    "    loc_k = np.load(os.path.join(project_dir, config.output_dir, 'loc_array_{}.npy'.format(k))).flatten()\n",
    "    \n",
    "    t_c, delta, T, tau = np.load(os.path.join(project_dir, config.output_dir, 'trans_pars_{}.npy'.format(k)))\n",
    "    transit = transit_linear(data.time_array[pred_range], t_c, delta, T, tau)\n",
    "    \n",
    "    scales_k = np.load(os.path.join(project_dir, config.output_dir, 'scales_array_{}.npy'.format(k))).flatten()\n",
    "    plt.plot(data.Z.flatten())\n",
    "    plt.plot()\n",
    "    p = plt.plot(loc_k)\n",
    "    plt.fill_between(data.time_array, loc_k - 2 * scales_k, loc_k + 2* scales_k, alpha= 0.3, color=p[0].get_color())\n",
    "    plt.plot(pred_range, d[k][:,0,:,0].T, label=k, color='grey', linewidth=0.2, alpha= 0.3)\n",
    "    plt.plot(pred_range, d[k][:,0,:,0].mean(0), label=k, color='red', linewidth=1)\n",
    "    plt.plot(pred_range, data.scaler_Z.transform(data.scaler_Z.inverse_transform(d[k][:,0,:,0].mean(0)) * transit).flatten(), \n",
    "             label=k, color='red', linewidth=1, alpha=0.7)\n",
    "    \n",
    "    print('transit depth: {}'.format(delta))\n",
    "    plt.title('step {}'.format(k))\n",
    "    plt.show()\n",
    "    #plt.figure\n",
    "    #plt.plot(transit)\n",
    "    #plt.show()\n",
    "\n",
    "interact(update, k=(step_list[0], step_list[-1], config.freq_eval))\n",
    "pass"
   ]
  },
  {
   "cell_type": "code",
   "execution_count": null,
   "metadata": {},
   "outputs": [],
   "source": []
  }
 ],
 "metadata": {
  "kernelspec": {
   "display_name": "Python (deepartransit)",
   "language": "python",
   "name": "deepartransit"
  },
  "language_info": {
   "codemirror_mode": {
    "name": "ipython",
    "version": 3
   },
   "file_extension": ".py",
   "mimetype": "text/x-python",
   "name": "python",
   "nbconvert_exporter": "python",
   "pygments_lexer": "ipython3",
   "version": "3.7.3"
  }
 },
 "nbformat": 4,
 "nbformat_minor": 2
}
