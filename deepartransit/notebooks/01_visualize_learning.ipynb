{
 "cells": [
  {
   "cell_type": "code",
   "execution_count": 9,
   "metadata": {
    "code_folding": [
     0
    ],
    "scrolled": true
   },
   "outputs": [],
   "source": [
    "# General imports and widgets\n",
    "import os\n",
    "if os.getcwd().split('/')[-1] != 'deepARTransit':\n",
    "    os.chdir('../..')\n",
    "import sys\n",
    "import warnings\n",
    "import numpy as np\n",
    "import matplotlib.pylab as plt\n",
    "from pixlc import plotting\n",
    "import ipywidgets as widgets\n",
    "\n",
    "plt.rcParams['figure.figsize'] = (16, 6)\n",
    "plt.rcParams['font.size'] = 15\n",
    "warnings.simplefilter(\"ignore\")\n",
    "\n",
    "# Project dir selection widget\n",
    "\n",
    "project_button = widgets.Dropdown(\n",
    "    options=[os.path.join('.'), # local git repo\n",
    "             os.path.join('/','Users','Mario','mount_test','deepARTransit') # cobweb         \n",
    "],\n",
    "    #value=experiment_folder,\n",
    "    # rows=10,\n",
    "    description='\\t\\t',\n",
    "    disabled=False\n",
    ")\n",
    "\n",
    "\n"
   ]
  },
  {
   "cell_type": "code",
   "execution_count": 19,
   "metadata": {
    "code_folding": [],
    "scrolled": true
   },
   "outputs": [
    {
     "data": {
      "application/vnd.jupyter.widget-view+json": {
       "model_id": "77063cbf4b1041f78ae2ef3c28cf62e2",
       "version_major": 2,
       "version_minor": 0
      },
      "text/plain": [
       "Dropdown(description='\\t\\t', options=('.', '/Users/Mario/mount_test/deepARTransit'), value='.')"
      ]
     },
     "metadata": {},
     "output_type": "display_data"
    }
   ],
   "source": [
    "#project directory for loading the data\n",
    "project_button"
   ]
  },
  {
   "cell_type": "code",
   "execution_count": 20,
   "metadata": {
    "code_folding": [
     0
    ]
   },
   "outputs": [],
   "source": [
    "# Experiment selection widget\n",
    "project_dir = project_button.value\n",
    "\n",
    "experiment_button = widgets.Dropdown(\n",
    "    options=list({r.split('experiments')[1][1:] for r,d,f in os.walk(os.path.join(project_dir, 'deepartransit','experiments')) if 'output' in d and 'summary' in d}),\n",
    "    #value=experiment_folder,\n",
    "    # rows=10,\n",
    "    description='\\t\\t',\n",
    "    disabled=False\n",
    ")"
   ]
  },
  {
   "cell_type": "code",
   "execution_count": 21,
   "metadata": {
    "scrolled": true
   },
   "outputs": [
    {
     "data": {
      "application/vnd.jupyter.widget-view+json": {
       "model_id": "be138aeb9c76486c9abdd559c1747232",
       "version_major": 2,
       "version_minor": 0
      },
      "text/plain": [
       "Dropdown(description='\\t\\t', options=('deeparsys_dev', 'cobweb/deeparsys_fulltime', 'cobweb/agol_rlc_r4/228090…"
      ]
     },
     "metadata": {},
     "output_type": "display_data"
    }
   ],
   "source": [
    "#Select an experime\n",
    "experiment_button"
   ]
  },
  {
   "cell_type": "code",
   "execution_count": 34,
   "metadata": {
    "scrolled": true
   },
   "outputs": [
    {
     "name": "stdout",
     "output_type": "stream",
     "text": [
      "/Users/Mario/mount_test/deepARTransit/deepartransit/experiments/cobweb/agol_rlc_r4/22807296\n",
      "Data and covariates shapes:\n",
      "loading data from deepartransit/data/agol_189733b_r4/rlc_22807296.npy\n",
      "(1, 690, 1) (1, 690, 2)\n",
      "time_path parameter not found in config. Default to 0,1,2....T-1\n"
     ]
    }
   ],
   "source": [
    "from utils.config import get_config_file, process_config\n",
    "from deepartransit.data_handling import data_generator\n",
    "\n",
    "experiment_folder = experiment_button.value\n",
    "#experiment_folder = 'cobweb/agol_rlc/22807296/'\n",
    "experiment_dir = os.path.join(project_dir, 'deepartransit', 'experiments', experiment_folder)\n",
    "print(experiment_dir)\n",
    "config_file = get_config_file(experiment_dir)\n",
    "config = process_config(config_file)\n",
    "print('Data and covariates shapes:')\n",
    "data = data_generator.DataGenerator(config)\n",
    "width = int(np.sqrt(data.Z.shape[0]))\n",
    "\n",
    "#os.listdir(os.path.join(project_dir, config.output_dir))"
   ]
  },
  {
   "cell_type": "code",
   "execution_count": 35,
   "metadata": {
    "scrolled": true
   },
   "outputs": [
    {
     "name": "stdout",
     "output_type": "stream",
     "text": [
      "[50, 100, 150, 200, 250, 300, 350, 400, 450, 500]\n"
     ]
    }
   ],
   "source": [
    "d = {}\n",
    "for fn in [s for s in os.listdir(os.path.join(project_dir, config.output_dir)) if (s[:3] == 'loc')]:\n",
    "    step = fn.split('_')[-1].split('.')[0]\n",
    "    try:\n",
    "        d[int(step)] = np.load(os.path.join(project_dir, config.output_dir, fn))#.mean(axis=0)\n",
    "        #pred_instr = traces_array.mean(axis=(0))\n",
    "        #length_pred = pred_instr.shape[1]\n",
    "        #plc_trans = data.Z[:, config.pretrans_length:config.pretrans_length+config.trans_length+1]\n",
    "    except:\n",
    "        print(fn)\n",
    "        continue\n",
    "step_list = sorted([int(k) for k in d if k!='array'])\n",
    "print(step_list)"
   ]
  },
  {
   "cell_type": "code",
   "execution_count": 36,
   "metadata": {
    "code_folding": [
     0
    ],
    "scrolled": false
   },
   "outputs": [
    {
     "data": {
      "application/vnd.jupyter.widget-view+json": {
       "model_id": "5b5a6d5c29d24522ac0525fbdb85f861",
       "version_major": 2,
       "version_minor": 0
      },
      "text/plain": [
       "interactive(children=(IntSlider(value=500, description='step', max=500, min=50, step=50), Output(layout=Layout…"
      ]
     },
     "metadata": {},
     "output_type": "display_data"
    }
   ],
   "source": [
    "# Visualize evolution of predictions and fits\n",
    "from ipywidgets import interactive\n",
    "from utils.transit import LinearTransit\n",
    "\n",
    "pred_range = range(config.pretrans_length, config.pretrans_length+ config.trans_length + 1)\n",
    "\n",
    "def update(step = step_list[-1]):\n",
    "    loc_k = np.load(os.path.join(project_dir, config.output_dir, 'loc_array_{}.npy'.format(step))).flatten()\n",
    "    \n",
    "    t_c, delta, T, tau = np.load(os.path.join(project_dir, config.output_dir, 'trans_pars_{}.npy'.format(step)))\n",
    "    transit = LinearTransit(data.time_array, [t_c, delta, T, tau])\n",
    "    \n",
    "    scales_k = np.load(os.path.join(project_dir, config.output_dir, 'scales_array_{}.npy'.format(step))).flatten()\n",
    "    plt.plot(data.Z.flatten())\n",
    "    plt.plot()\n",
    "    p = plt.plot(loc_k)\n",
    "    plt.fill_between(data.time_array, loc_k - 2 * scales_k, loc_k + 2* scales_k, alpha= 0.3, color=p[0].get_color())\n",
    "    #plt.plot(pred_range, d[step][:,0,:,0].T, label=step, color='grey', linewidth=0.2, alpha= 0.3)\n",
    "    #plt.plot(pred_range, d[step][:,0,:,0].mean(0), label=step, color='red', linewidth=1)\n",
    "    #plt.plot(pred_range, data.scaler_Z.transform(data.scaler_Z.inverse_transform(d[step][:,0,:,0].mean(0)) *\n",
    "    #                                             transit.flux[pred_range]).flatten(), \n",
    "    #         label=step, color='red', linewidth=1, alpha=0.7)\n",
    "    \n",
    "    print('transit depth: {}'.format([t_c, delta, T, tau]))\n",
    "    plt.title('step {}'.format(step))\n",
    "    plt.show()\n",
    "    plt.plot(data.scaler_Z.inverse_transform(data.Z).flatten()/\n",
    "             data.scaler_Z.inverse_transform(loc_k).flatten())\n",
    "    plt.plot(transit.flux, color='red')\n",
    "    plt.show()\n",
    "\n",
    "interactive_plot = interactive(update, step=(step_list[0], step_list[-1], config.freq_eval))\n",
    "output = interactive_plot.children[-1]\n",
    "output.layout.height = '800px'\n",
    "interactive_plot\n",
    "\n"
   ]
  },
  {
   "cell_type": "code",
   "execution_count": null,
   "metadata": {},
   "outputs": [],
   "source": []
  },
  {
   "cell_type": "code",
   "execution_count": null,
   "metadata": {},
   "outputs": [],
   "source": []
  },
  {
   "cell_type": "code",
   "execution_count": null,
   "metadata": {},
   "outputs": [],
   "source": []
  }
 ],
 "metadata": {
  "kernelspec": {
   "display_name": "Python (deepartransit)",
   "language": "python",
   "name": "deepartransit"
  },
  "language_info": {
   "codemirror_mode": {
    "name": "ipython",
    "version": 3
   },
   "file_extension": ".py",
   "mimetype": "text/x-python",
   "name": "python",
   "nbconvert_exporter": "python",
   "pygments_lexer": "ipython3",
   "version": "3.7.3"
  }
 },
 "nbformat": 4,
 "nbformat_minor": 2
}
